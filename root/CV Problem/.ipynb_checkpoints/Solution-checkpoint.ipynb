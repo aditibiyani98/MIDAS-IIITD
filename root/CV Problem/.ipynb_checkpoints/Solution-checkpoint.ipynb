{
 "cells": [
  {
   "cell_type": "markdown",
   "metadata": {},
   "source": [
    "# Computer Vision Problem Solution"
   ]
  },
  {
   "cell_type": "code",
   "execution_count": 3,
   "metadata": {},
   "outputs": [],
   "source": [
    "import pickle\n",
    "import numpy as np\n",
    "import pandas as pd\n",
    "from keras.models import Sequential\n",
    "from keras.layers import Dense,Flatten,Conv2D,MaxPooling2D,Dropout\n",
    "from keras.utils import to_categorical\n",
    "from sklearn.model_selection import train_test_split\n",
    "from sklearn.utils import shuffle\n"
   ]
  },
  {
   "cell_type": "code",
   "execution_count": 4,
   "metadata": {},
   "outputs": [],
   "source": [
    "with open('train_image.pkl', 'rb') as f:\n",
    "    data = pickle.load(f)\n",
    "\n",
    "data=np.array(data)\n",
    "\n",
    "with open('train_label.pkl', 'rb') as f:\n",
    "    label = pickle.load(f)\n",
    "\n",
    "label=np.array(label)\n",
    "\n",
    "with open('test_image.pkl', 'rb') as f:\n",
    "    test = pickle.load(f)"
   ]
  },
  {
   "cell_type": "code",
   "execution_count": 5,
   "metadata": {},
   "outputs": [],
   "source": [
    "test=np.array(test)\n",
    "\n",
    "data=data/255.0\n",
    "test=test/255.0"
   ]
  },
  {
   "cell_type": "code",
   "execution_count": 6,
   "metadata": {},
   "outputs": [],
   "source": [
    "data,label=shuffle(data,label)\n",
    "\n",
    "x_train,x_test,y_train,y_test=train_test_split(data,label,test_size=0.2)\n",
    "\n",
    "#Reshape Dataset\n",
    "x_train=(np.reshape(x_train,[-1,28,28,1]))\n",
    "x_test=(np.reshape(x_test,[-1,28,28,1]))\n",
    "\n",
    "test=(np.reshape(test,[-1,28,28,1]))"
   ]
  },
  {
   "cell_type": "code",
   "execution_count": 7,
   "metadata": {},
   "outputs": [],
   "source": [
    "#OneHot Encode the Output Classes\n",
    "y_train=(to_categorical(y_train,7))\n",
    "y_test=(to_categorical(y_test,7))\n",
    "#Create Model Object\n",
    "model=Sequential()"
   ]
  },
  {
   "cell_type": "code",
   "execution_count": 8,
   "metadata": {},
   "outputs": [],
   "source": [
    "#Create Layers Needed\n",
    "conv1=Conv2D(filters=64,kernel_size=(3,3),strides=1,padding='same',activation='relu',input_shape=(28,28,1))\n",
    "conv2=Conv2D(filters=64,kernel_size=(3,3),strides=1,padding='same',activation='relu')\n",
    "maxpool1=MaxPooling2D(pool_size=2,strides=2,padding='same')\n",
    "maxpool2=MaxPooling2D(pool_size=2,strides=2,padding='same')\n",
    "hidden=Dense(units=1024,activation='relu')\n",
    "ouput=Dense(units=7,activation='softmax')\n",
    "droupout=Dropout(rate=0.2)"
   ]
  },
  {
   "cell_type": "code",
   "execution_count": 9,
   "metadata": {},
   "outputs": [],
   "source": [
    "#Adding Layers to Model\n",
    "model.add(conv1)\n",
    "model.add(maxpool1)\n",
    "model.add(conv2)\n",
    "model.add(maxpool2)\n",
    "model.add(Flatten())\n",
    "model.add(hidden)\n",
    "model.add(droupout)\n",
    "model.add(ouput)"
   ]
  },
  {
   "cell_type": "code",
   "execution_count": 10,
   "metadata": {},
   "outputs": [
    {
     "name": "stdout",
     "output_type": "stream",
     "text": [
      "Epoch 1/20\n",
      "6400/6400 [==============================] - 27s 4ms/step - loss: 0.7037 - acc: 0.7067\n",
      "Epoch 2/20\n",
      "6400/6400 [==============================] - 26s 4ms/step - loss: 0.4654 - acc: 0.8183\n",
      "Epoch 3/20\n",
      "6400/6400 [==============================] - 26s 4ms/step - loss: 0.4136 - acc: 0.8378\n",
      "Epoch 4/20\n",
      "6400/6400 [==============================] - 26s 4ms/step - loss: 0.3524 - acc: 0.8647\n",
      "Epoch 5/20\n",
      "6400/6400 [==============================] - 25s 4ms/step - loss: 0.3205 - acc: 0.8737\n",
      "Epoch 6/20\n",
      "6400/6400 [==============================] - 25s 4ms/step - loss: 0.2864 - acc: 0.8883\n",
      "Epoch 7/20\n",
      "6400/6400 [==============================] - 25s 4ms/step - loss: 0.2735 - acc: 0.8959\n",
      "Epoch 8/20\n",
      "6400/6400 [==============================] - 25s 4ms/step - loss: 0.2417 - acc: 0.9072\n",
      "Epoch 9/20\n",
      "6400/6400 [==============================] - 25s 4ms/step - loss: 0.2302 - acc: 0.9119\n",
      "Epoch 10/20\n",
      "6400/6400 [==============================] - 25s 4ms/step - loss: 0.1945 - acc: 0.9267\n",
      "Epoch 11/20\n",
      "6400/6400 [==============================] - 25s 4ms/step - loss: 0.1619 - acc: 0.9408\n",
      "Epoch 12/20\n",
      "6400/6400 [==============================] - 25s 4ms/step - loss: 0.1540 - acc: 0.9400\n",
      "Epoch 13/20\n",
      "6400/6400 [==============================] - 25s 4ms/step - loss: 0.1318 - acc: 0.9534\n",
      "Epoch 14/20\n",
      "6400/6400 [==============================] - 25s 4ms/step - loss: 0.1094 - acc: 0.9611\n",
      "Epoch 15/20\n",
      "6400/6400 [==============================] - 25s 4ms/step - loss: 0.0951 - acc: 0.9678\n",
      "Epoch 16/20\n",
      "6400/6400 [==============================] - 26s 4ms/step - loss: 0.0913 - acc: 0.9659\n",
      "Epoch 17/20\n",
      "6400/6400 [==============================] - 25s 4ms/step - loss: 0.0790 - acc: 0.9739\n",
      "Epoch 18/20\n",
      "6400/6400 [==============================] - 25s 4ms/step - loss: 0.0674 - acc: 0.9766\n",
      "Epoch 19/20\n",
      "6400/6400 [==============================] - 25s 4ms/step - loss: 0.0509 - acc: 0.9844\n",
      "Epoch 20/20\n",
      "6400/6400 [==============================] - 25s 4ms/step - loss: 0.0561 - acc: 0.9786\n"
     ]
    }
   ],
   "source": [
    "#Compile the Model\n",
    "model.compile(optimizer='adam',loss='categorical_crossentropy',metrics=['accuracy'])\n",
    "\n",
    "#Fit Model\n",
    "model.fit(x_train,y_train,epochs=20,batch_size=100)\n",
    "\n",
    "results = model.predict(test)\n",
    "results = np.argmax(results,axis = 1)\n",
    "results = pd.Series(results,name=\"class\")\n",
    "submission = pd.concat([pd.Series(range(0,2000),name = \"image_index\"),results],axis = 1)\n",
    "submission.to_csv(\"results.csv\",index=False)"
   ]
  }
 ],
 "metadata": {
  "kernelspec": {
   "display_name": "Python 3",
   "language": "python",
   "name": "python3"
  },
  "language_info": {
   "codemirror_mode": {
    "name": "ipython",
    "version": 3
   },
   "file_extension": ".py",
   "mimetype": "text/x-python",
   "name": "python",
   "nbconvert_exporter": "python",
   "pygments_lexer": "ipython3",
   "version": "3.6.0"
  }
 },
 "nbformat": 4,
 "nbformat_minor": 2
}
